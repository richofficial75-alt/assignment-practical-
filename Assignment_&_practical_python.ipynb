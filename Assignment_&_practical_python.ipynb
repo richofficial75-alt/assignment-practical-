{
  "nbformat": 4,
  "nbformat_minor": 0,
  "metadata": {
    "colab": {
      "provenance": [],
      "toc_visible": true
    },
    "kernelspec": {
      "name": "python3",
      "display_name": "Python 3"
    },
    "language_info": {
      "name": "python"
    }
  },
  "cells": [
    {
      "cell_type": "markdown",
      "source": [
        "PYTHON ASSIGNMENT"
      ],
      "metadata": {
        "id": "A6gCOqtkSlLn"
      }
    },
    {
      "cell_type": "markdown",
      "source": [
        "Q.1 Whatis python,and why it is popular?\n",
        "\n",
        "   - Python is a high level interpreted programming language known for its clean and simple syntax.It supports multiple programming styles like procedural object-oriented,and functional.Python is widely used in various field such as web development,automation and data science.\n",
        "   - Python is popular because it is easy to learn and quick to write code in.It has a large standard library and supports many third party tools.The language runs on all major platforms and integrates well with other technologies. A strong global community also contributes to its growing ecosystem.\n",
        "\n",
        "Q.2 What is an interpreter in python?\n",
        "   - An interpreter in python is a program that reads and executes python code line by line it translates the high level code into machine readable instructions at runtime. This allows for quick testing and debugging without needing to compile the code first.Pythons imterpreter makes it easier to write and run code interactively.\n",
        "\n",
        "Q.3 What are pre-defined keywords in python?\n",
        "  - Pre-defined keywords in python are special reserved words that are part of the languages syntax. These keywords have fixed meaning and purposes and they tell the python interpreter how to interpret specific parts of your code. for example keywords like if, else, while and are used for controlling the flow of a program. Others like def class and lambda are used to define functions and classes. There are 35 predefined keywords in the language.\n",
        "\n",
        " Q.4 Can keywords be used as variable names?\n",
        "  -  No,keywords can't be used as variable names. It will throw an error during runtime in a program.\n",
        "\n",
        " Q.5 What is mutability in python?\n",
        "  -  Python lists are mutable, allowing us to change, add, or remove elements. Strings in Python are immutable, meaning we can't change their content after creation. To check if an object is mutable, you can try altering its contents. If succeed without an error, it's mutable.\n",
        "\n",
        " Q.6 Why are lists mutable but tuples are immutable?\n",
        "\n",
        "   - Lists are mutable because elements of the list can be modified, individual elements can be replaced, and the order of elements can be changed even after the list has been created.\n",
        "  - Tuples in Python are immutable by design, which means that once a tuple is  created, its elements cannot be modified, added, or removed. This immutability serves several important purposes.\n",
        "\n",
        "  Q.7 What is the difference between \"==\" and \"is\" operator in python?\n",
        "\n",
        "  - In Python, == and is operators are both used for comparison but they serve different purposes. The == operator checks for equality of values which means it evaluates whether the values of two objects are the same.\n",
        "  - On the other hand, is operator checks for identity, meaning it determines whether two variables point to the same object in memory.\n",
        "\n",
        "  Q.8 What are logical operators in python\n",
        "\n",
        "   - logical operators are used to combine conditional statements, allowing to perform operations based on multiple conditions. These Python operators, alongside arithmetic operators, are special symbols used to carry out computations on values and variables.\n",
        "\n",
        "  Q.9 What is type casting in python?\n",
        "  \n",
        "  - Type Casting is the method to convert the Python variable datatype into a certain data type in order to perform the required operation by users.\n",
        "     There is two types of Type Casting in Python.\n",
        "  - Implicit Type Conversion\n",
        "  - Explicit Type Conversion\n",
        "  \n",
        "  Q.10 What is  the difference between Implicit and Explicit Type Casting?\n",
        "  - An implicit type conversion is automatically performed by the compiler when differing data types are intermixed in an expression whereas An explicit type conversion is user-defined conversion that forces an expression to be of specific type.\n",
        "  - An implicit type conversion is performed without programmer's intervention and in explicit type conversion is specified explicitly by the programmer.\n",
        "\n",
        "  Q.11 What is the purpose of conditional statements in python?\n",
        "   - The purpose of conditional statements in programming languages like PHP is to enable decision-making, implement branching logic, and control the flow of execution based on specific conditions. They allow developers to create dynamic and responsive programs that can adapt to different scenarios and user inputs.\n",
        "  Q.12 How does the elif statement work?\n",
        "\n",
        "   - In Python programming, the “else if” statement, often called “elif,” is a conditional statement that allows you to specify multiple conditions to be evaluated sequentially.\n",
        "   - It provides a way to execute different code blocks based on various conditions. The “else if” statement is used when you have multiple mutually exclusive requirements and want to perform other actions depending on the valid state.\n",
        "  \n",
        "  Q.13 What is  the difference between for and while loops?\n",
        "   - The main difference is that a for loop is used for a known, fixed number of iterations, while a 'while' loop is used when the number of iterations is unknown and depends on a dynamic condition.\n",
        "   - 'For' loops have a concise structure for initialization, condition, and increment within the loop declaration, making them ideal for iterating over collections or a predetermined range, whereas 'while' loops check a condition before each iteration and require the loop body to manage any necessary updates to keep the condition from becoming permanently true, which could lead to an infinite loop.\n",
        "   \n",
        "   Q.14 Describe a scenario where a while loop is more suitable than a for loop?\n",
        "    \n",
        "   - A scenario where a program needs to repeatedly prompt a user for input until a specific valid input is received.\n",
        "    For example, a program might ask the user to enter a number within a certain range, or a password that meets specific criteria.\n",
        "  password = \"\"\n",
        "while len(password) < 8 or not any(char.isdigit() for char in password):\n",
        "    password = input(\"Enter a password (at least 8 characters, with a digit): \")\n",
        "    if len(password) < 8:\n",
        "        print(\"Password is too short.\")\n",
        "    if not any(char.isdigit() for char in password):\n",
        "        print(\"Password must contain at least one digit.\")"
      ],
      "metadata": {
        "id": "wDHsQmVsqNyl"
      }
    },
    {
      "cell_type": "markdown",
      "source": [
        "PRACTICAL QUESTIONS\n",
        "1. Write a python program to print \"hello, world!\""
      ],
      "metadata": {
        "id": "1aLBjyIC-P1x"
      }
    },
    {
      "cell_type": "code",
      "source": [
        "print(\"hello, world!\")"
      ],
      "metadata": {
        "colab": {
          "base_uri": "https://localhost:8080/"
        },
        "id": "v78V5ib-_vi6",
        "outputId": "995942f9-2dd8-41b3-e22e-eb22f88eadd0"
      },
      "execution_count": null,
      "outputs": [
        {
          "output_type": "stream",
          "name": "stdout",
          "text": [
            "hello, world!\n"
          ]
        }
      ]
    },
    {
      "cell_type": "markdown",
      "source": [
        "2. Write a python program that displays name and age."
      ],
      "metadata": {
        "id": "z_v3bdDvAyHu"
      }
    },
    {
      "cell_type": "code",
      "source": [
        "name=input(\"Richa: \")\n",
        "age=int(input(\"30\"))"
      ],
      "metadata": {
        "id": "hnxbqRKj0GNE"
      },
      "execution_count": null,
      "outputs": []
    },
    {
      "cell_type": "markdown",
      "source": [
        "3. Write a code to print all the pre-defined keywords in python using the keyword library."
      ],
      "metadata": {
        "id": "FjiIJSpN2CJk"
      }
    },
    {
      "cell_type": "markdown",
      "source": [
        "Import keyword\n",
        "keywords = keyword.kwlist\n",
        "print(\"Python Keywords:\")\n",
        "for kw in keywords:\n",
        "    print(kw)\n"
      ],
      "metadata": {
        "id": "gljHGR9b0Ens"
      }
    },
    {
      "cell_type": "code",
      "source": [
        "4. Write a program that checks if a given word is a python keyword\n",
        "\n",
        "import keyword\n",
        "\n",
        "def check_keyword(word):\n",
        "    if keyword.iskeyword(word):\n",
        "        print(f'\"{word}\" is a Python keyword.')\n",
        "    else:\n",
        "        print(f'\"{word}\" is NOT a Python keyword.')"
      ],
      "metadata": {
        "id": "G7uZIwykM5F2"
      },
      "execution_count": null,
      "outputs": []
    },
    {
      "cell_type": "markdown",
      "source": [],
      "metadata": {
        "id": "WY_lmIDHQgZo"
      }
    },
    {
      "cell_type": "markdown",
      "source": [
        "5. Create a list and tuple in python and demonstrate how attempting to change any word differently for each."
      ],
      "metadata": {
        "id": "ZgakAvbIWrdA"
      }
    },
    {
      "cell_type": "code",
      "source": [
        "# Create a list\n",
        "words_list = [\"apple\", \"banana\", \"cherry\"]\n",
        "print(\"Original list:\", words_list)\n",
        "\n",
        "# Modify one element of the list\n",
        "words_list[1] = \"blueberry\"\n",
        "print(\"Modified list:\", words_list)\n",
        "\n",
        "print(\"-\" * 40)\n",
        "\n",
        "# Create a tuple\n",
        "words_tuple = (\"apple\", \"banana\", \"cherry\")\n",
        "print(\"Original tuple:\", words_tuple)\n",
        "\n",
        "# Attempt to modify one element of the tuple\n",
        "try:\n",
        "    words_tuple[1] = \"blueberry\"\n",
        "except TypeError as e:\n",
        "    print(\"Error when modifying tuple:\", e)\n"
      ],
      "metadata": {
        "id": "YVsyhpgp0DJy"
      },
      "execution_count": null,
      "outputs": []
    },
    {
      "cell_type": "markdown",
      "source": [
        "6. Write a function to demonstrate the behaviour of mutable and immeutable\n",
        "arguements.\n",
        "\n",
        "- Immutable types (like int, str, tuple) can’t be changed in place; passing them to a function doesn’t affect the original object.\n",
        "\n",
        "- Mutable types (like list, dict, set) can be changed in place; changes inside a function affect the original object.\n",
        "\n",
        "7. Write a program that performs basic arithmatic operations on two user input- number.\n",
        "\n",
        "- # Program to perform basic arithmetic operations\n",
        "\n",
        "# Take input from the user\n",
        "num1 = float(input(\"Enter first number: \"))\n",
        "num2 = float(input(\"Enter second number: \"))\n",
        "\n",
        "# Perform operations\n",
        "print(\"\\n--- Results ---\")\n",
        "print(\"Addition:\", num1 + num2)\n",
        "print(\"Subtraction:\", num1 - num2)\n",
        "print(\"Multiplication:\", num1 * num2)\n",
        "\n",
        "# Handle division carefully (avoid divide by zero)\n",
        "if num2 != 0:\n",
        "    print(\"Division:\", num1 / num2)\n",
        "    print(\"Modulus:\", num1 % num2)\n",
        "else:\n",
        "    print(\"Division: Error! Division by zero.\")\n",
        "    print(\"Modulus: Error! Division by zero.\")\n",
        "\n",
        "# Exponentiation\n",
        "print(\"Power:\", num1 ** num2)\n",
        "\n",
        "8. Write a program to demonstrate the use of logical operators.\n",
        "\n",
        "  - Logical operators in Python are:\n",
        "\n",
        "   and → True if both conditions are true\n",
        "\n",
        "   or → True if at least one condition is true\n",
        "\n",
        "   not → Reverses the result (True → False, False → True)\n",
        "\n",
        "9. Write a python program to convert user input from string to integer, float   and boolean types.\n",
        "  -  Enter a value: 123\n",
        "\n",
        "  --- Type Conversion Results ---\n",
        "  As Integer: 123\n",
        "  As Float: 123.0\n",
        "  As Boolean: True\n",
        "  Enter a value: 3.14\n",
        "\n",
        "   --- Type Conversion Results ---\n",
        "  As Integer: Conversion failed (not a valid integer)\n",
        "  As Float: 3.14\n",
        "  As Boolean: True\n",
        "\n",
        "  10. Write code to demonstrate type casting with list element\n",
        "\n",
        "  # Convert to integer (if possible)\n",
        "   try:\n",
        "    int_val = int(user_input)\n",
        "    print(\"As Integer:\", int_val)\n",
        "    except ValueError:\n",
        "    print(\"As Integer: Conversion failed (not a valid integer)\")\n",
        "\n",
        "   # Convert to float (if possible)\n",
        "   try:\n",
        "    float_val = float(user_input)\n",
        "    print(\"As Float:\", float_val)\n",
        "    except ValueError:\n",
        "    print(\"As Float: Conversion failed (not a valid float)\")\n",
        "\n",
        "    # Convert to boolean\n",
        "    # Rule: In Python, bool(\"any non-empty string\") = True, bool(\"\") = False\n",
        "    bool_val = bool(user_input)\n",
        "    print(\"As Boolean:\", bool_val)\n",
        "    Example Runs\n",
        "    Case 1: Input = \"123\"\n",
        "\n",
        "\n",
        "\n",
        "# Program to demonstrate type casting with list elements\n",
        "\n",
        "# List of string numbers\n",
        "data = [\"10\", \"20\", \"30\", \"0\", \"\"]\n",
        "\n",
        "print(\"Original list (strings):\", data)\n",
        "\n",
        "# Convert each element to integer (if possible)\n",
        "int_list = []\n",
        "for item in data:\n",
        "    try:\n",
        "        int_list.append(int(item))\n",
        "    except ValueError:\n",
        "        int_list.append(None)   # If conversion fails, store None\n",
        "print(\"As Integers:\", int_list)\n",
        "\n",
        "# Convert each element to float (if possible)\n",
        "float_list = []\n",
        "for item in data:\n",
        "    try:\n",
        "        float_list.append(float(item))\n",
        "    except ValueError:\n",
        "        float_list.append(None)\n",
        "print(\"As Floats:\", float_list)\n",
        "\n",
        "# Convert each element to boolean\n",
        "# Rule: non-empty string → True, empty string → False\n",
        "bool_list = [bool(item) for item in data]\n",
        "print(\"As Booleans:\", bool_list)\n",
        "\n",
        "Example Output\n",
        "Original list (strings): ['10', '20', '30', '0', '']\n",
        "As Integers: [10, 20, 30, 0, None]\n",
        "As Floats: [10.0, 20.0, 30.0, 0.0, None]\n",
        "As Booleans: [True, True, True, True, False]\n",
        "int(\"10\") → 10\n",
        "float(\"20\") → 20.0\n",
        "bool(\"0\") → True (because \"0\" is still a non-empty string)\n",
        "bool(\"\") → False\n",
        "\n",
        "11. Write a program that checks if a number is positive negative or zero.\n",
        "  - # Program to check if a number is positive, negative, or zero\n",
        "\n",
        "  # Take input from the user\n",
        "  num = float(input(\"Enter a number: \"))\n",
        "\n",
        "  # Check conditions\n",
        "  if num > 0:\n",
        "    print(f\"{num} is Positive.\")\n",
        "    elif num < 0:\n",
        "    print(f\"{num} is Negative.\")\n",
        "    else:\n",
        "    print(\"The number is Zero.\")\n",
        "\n",
        "  12. Write a for loop to print numbers from 1 to 10.\n",
        "\n",
        "  - # Print numbers from 1 to 10 using a for loop\n",
        "for i in range(1, 11):\n",
        "    print(i)\n",
        "    output\n",
        "1\n",
        "2\n",
        "3\n",
        "4\n",
        "5\n",
        "6\n",
        "7\n",
        "8\n",
        "9\n",
        "10\n",
        "\n",
        "13. Write a python program to find sum of all even numbers between 1 and 50.\n",
        "\n",
        " - # Program to find sum of all even numbers between 1 and 50\n",
        "\n",
        "  total = 0\n",
        "  for i in range(1, 51):   # numbers from 1 to 50\n",
        "    if i % 2 == 0:       # check if even\n",
        "        total += i\n",
        "\n",
        "   print(\"Sum of even numbers between 1 and 50 is:\", total)\n",
        "  print(\"Sum:\", sum(range(2, 51, 2)))\n",
        "\n",
        "14. Write a program to reverse a string using a while a loop.\n",
        " - # Program to reverse a string using a while loop\n",
        "\n",
        "# Take input from user\n",
        "text = input(\"Enter a string: \")\n",
        "\n",
        "# Initialize variables\n",
        "reversed_text = \"\"\n",
        "i = len(text) - 1   # start from last index\n",
        "\n",
        "# Loop until the beginning of the string\n",
        "while i >= 0:\n",
        "    reversed_text += text[i]\n",
        "    i -= 1\n",
        "\n",
        "print(\"Reversed string:\", reversed_text)\n",
        "\n",
        " 15. Write a python program to calculate the factorial of a number provided by the user using a while loop.\n",
        "\n",
        " - # Program to calculate factorial using a while loop\n",
        "\n",
        "# Take input from the user\n",
        "num = int(input(\"Enter a number: \"))\n",
        "\n",
        "# Initialize variables\n",
        "factorial = 1\n",
        "i = 1\n",
        "\n",
        "# Calculate factorial using while loop\n",
        "while i <= num:\n",
        "    factorial *= i\n",
        "    i += 1\n",
        "\n",
        "print(f\"Factorial of {num} is {factorial}\")\n",
        "\n",
        "\n",
        "\n",
        "\n",
        "\n"
      ],
      "metadata": {
        "id": "YUubws7id52T"
      }
    }
  ]
}